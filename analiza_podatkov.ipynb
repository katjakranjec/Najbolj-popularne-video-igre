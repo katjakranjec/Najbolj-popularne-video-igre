{
 "cells": [
  {
   "cell_type": "code",
<<<<<<< HEAD
   "execution_count": 3,
=======
   "execution_count": 1,
>>>>>>> 37e5f5dc53f18e6b807f33360eb0ded877b95838
   "metadata": {},
   "outputs": [],
   "source": [
    "import pandas as pd"
   ]
  },
  {
   "cell_type": "code",
<<<<<<< HEAD
   "execution_count": 4,
   "metadata": {},
   "outputs": [],
   "source": [
    "videoigre = pd.read_csv ('../obdelani-podatki/videoigre.csv')"
   ]
  },
  {
   "cell_type": "code",
   "execution_count": 6,
   "metadata": {},
   "outputs": [],
   "source": [
    "zanri = pd.read_csv ('../obdelani-podatki/zanri.csv')"
   ]
  },
  {
   "cell_type": "code",
   "execution_count": 7,
   "metadata": {},
   "outputs": [],
   "source": [
    "ESRB = pd.read_csv ('../obdelani-podatki/ESRB-deskriptorji.csv')"
   ]
  },
  {
   "cell_type": "code",
   "execution_count": 8,
   "metadata": {},
   "outputs": [],
   "source": [
    "publisherji = pd.read_csv ('../obdelani-podatki/publisherji.csv')"
   ]
  },
  {
   "cell_type": "code",
   "execution_count": 9,
   "metadata": {},
   "outputs": [],
   "source": [
    "platforme = pd.read_csv ('../obdelani-podatki/platforme.csv')"
   ]
  },
  {
   "cell_type": "code",
   "execution_count": 31,
   "metadata": {},
   "outputs": [
    {
     "data": {
      "text/plain": [
       "<AxesSubplot:xlabel='leto'>"
      ]
     },
     "execution_count": 31,
     "metadata": {},
     "output_type": "execute_result"
    },
    {
     "data": {
      "image/png": "iVBORw0KGgoAAAANSUhEUgAAAXcAAAEGCAYAAACevtWaAAAAOXRFWHRTb2Z0d2FyZQBNYXRwbG90bGliIHZlcnNpb24zLjMuMiwgaHR0cHM6Ly9tYXRwbG90bGliLm9yZy8vihELAAAACXBIWXMAAAsTAAALEwEAmpwYAAAotklEQVR4nO3deXxU1d3H8c8vbJEdwiICkYisoiwGZHEtYhG1UrUKdWGxYitWaheLfepD96q1tVpbt7JIBZei1uXBCq7IqmGTVXYwrGGXnSTn+eNcNGIIycydTHLzfb9eeWVyZ+6d32GY79w599xzzTmHiIhES0qyCxARkfAp3EVEIkjhLiISQQp3EZEIUriLiERQ5WQXANCgQQPXokWLZJchIlKuzJ07d7tzrmFh95003M1sDHAlsM051yFYVh94AWgBrAOud87tMjMDHgH6AQeAwc65eSd7jhYtWpCVlVW81oiICABmtv5E9xWnW2Yc0Pe4ZSOBd5xzrYB3gr8BLgdaBT/DgMdLWqyIiMTvpOHunJsG7Dxu8dXAM8HtZ4D+BZaPd95soK6ZNQmpVhERKaZYD6g2ds5tDm5vARoHt5sCnxV4XHaw7GvMbJiZZZlZVk5OToxliIhIYeIeLeP8/AUlnsPAOfeUcy7TOZfZsGGhxwNERCRGsYb71mPdLcHvbcHyjUDzAo9rFiwTEZFSFGu4vwYMCm4PAl4tsPwW87oDewp034iISCkpzlDI54CLgQZmlg2MAu4HXjSzW4H1wPXBwyfjh0Guwg+FHJKAmkVE5CROGu7OuYEnuKt3IY91wPB4iypT8vNh/nho0hFO65zsakREiqVMnKFaps18FN4e5W9nXAi9RkDL3mCW3LpERIqguWWKkj0X3v0ttL0S+vwWtq+CZ6+FJ86Hhc9D3tFkVygiUiiF+4kc2gsvDYVaTeDqx6DXXTBiIfR/HPLz4JXb4ZGOMPMxOPx5sqsVEfkKhXthnIP/+zHs3gDX/hNOqeeXV64Knb4Ld8yC7/4b6p8BU/4H/nIWTB0Fn29Jbt0iIgGFe2EWPg+L/g0X3wvp3b9+vxm0vgwGvwG3vQstL/F98389G14dDjmfln7NIiIFWFm4QHZmZqYrM7NCbl8FT17oR8YMeg1SKhVvvZ1rYNY/YP6zkHsQTj8fUmuX7LkbtIJuw6BOs5LXLeHKz4Plb8CKKXDRPVDv9GRXJPI1ZjbXOZdZ6H0K9wJyj8DoS313zPdnQJ1Cp8Up2v4d8PHT8Omb4PKKv55zsG2Z/1bQ4Tro+UM4tUPJn1/ic/QgLJgIsx7zH9gANU+Fm1+Bxu2TW5vIcRTuxfXW//g39YCJ0PaK0n/+Xeth9uMwbzwc3Q9nXgo97/JDMDX0MrEO7ISPnoaPnoID2+G0Ln7Ya9qZMOE6OHrAH2dJPy/ZlYp8QeFeHCun+jdx19vgioeSW8uBnZA1GuY8Cftz/AlUvUZAu6uhkk5NCNWudTDr77477egBaPVNPzLq9F5ffqDuWg//+jbs3QTXj/fHW0TKAIX7yXy+FR7vCTUbw23vQJVTkldLQUcPwcLn/LeJHaugbjr0uBM63wRVayS7uvJt03yY8Sgs/Q9YJTjnet8V1qhd4Y/flwMTroUti/1w2I43lGq5IoVRuBclPx+evQY2zIZh70Ojtsmpoyj5+fDpZJjxCGR/5Idmdr3NH3ytqemSi805WPUOzHwE1k6DarUhcwic932ofdrJ1z+0F1640a/7zT9CjzsSX7NIEYoKd33Hn/U3WPMeXPnXshnsACkp0O5K/7Nhtt/jnPagD/uajUq2rao1ocvN0OUWqFYrMfWWNXlHYfFL/t9t2xKodZo/4/jcwSUb0ZRa2/e7v/w9eOte3zf/jftiPx6SlwvLXoWssf5bY88fwmmdYttW2JyDV++EtR+UbL2UynBWf/+BWevUhJRWYvu2wQs3+W61kkhrCTdMgGo1E1NXglXsPfeNc2H0ZdCmn+9LLU8HLXNWwLxn4OCukq23cw1smAWpdSBzaNl6E4bt0F7/bzT7cdi7ERq28/3pHa7zJ6TFKj8P3rjbb/vcwXDFX4o/ZBbgyH7fxz/rMT8yq/4ZsH87HN4LGRf5GpM9f9Gy130gtroMapTg2+H+7bBqqg/5c27wAwIatk5cncXxxt1+kMLZ1xf/3zTvSHCuyy/g4p8ntr44qFumMIf2+vHs+bnw/Q+/PAu1Isie67smlr1ett6EYdm7GeY84feID++BFhf49rXqE15gOgfv/g4+fAjaXQXX/BOqpBa9zr4cPxrn46f9h3Lz7j7IW18ORz6HueP8B9Hnm6FxB19zh2ugUpVwai6uvKPwj+7+WMQPZpb8IP7ONcFB6gn+nI82/Xxb0ruX/gfW9pXw9/Og663Q708lW/eFm2D1e3DX/JJ/Qy4lCvfCvDzMfzIPebPws1Argi/ehM9C7iEfMr1GJOdNGIacT/2Zwgtf8OcYtPuWD8+m5ybuOWc/Dv8d6T9ABkwsvJtnx2qY+Td/cDz3sB9m2/OuwodV5gZ7jDP/BjnLoHYz37dfmt1oH4/2028MfB7aXB77dvZv/3J46cGd0Kyr///Vpl/JvunE4/kbYc0HQUCX8PjU9lXw927+uMwVf05MfXFSuB9v4fN+4q9L/seffVjRFfYm7HmXD6HSehPGyjnfzTTjEVjxX6h8ih9N1OMO391RGha+AK/eAY3Pghtf+jJEsrNgxl9h2RtQqSp0HOD71Ru0Ovk28/N998aMR2H99NLrRju8Dx7t7Mf3D5kczof8kQOwYILvhtq1Duq3hJ53QseBiR2ZtmEOjLkMLvklXPSz2Lbxxo9999sdc6DBmeHWFwKFe0E7VvvumCYdYdDrZT+8SlNhb8Iew6H91WXv38k5WDfdh/rGLDilPpx3ux9FVCOt9OtZMQVevMWPurno576LZcNMH8pdb/O1xfrVfuNcH/LLXkt8N9r798P7f4TvvQPNCs2M2OXl+jbMfNQPRa3RELrd7rtMqtcP97mcgzHf9Oco3DUv9qHD+7bBI53gzN5ww79CLTEMCvdj9m6C8f1h/7bYpxeoCI5/E5Zl9Vr4sf+dboSq1ZNby4bZMPF6OLQH6jT3H4ydbw5vtEXBbrS8I3D9v/wIqrB8vtXvtbe61A8wSJRjH8wzH4WVU6B6A7j9g3DnVDp2QPiqR/xB73gc+8C7dSo07xZKeWFRuIM/sPKvb8PB3fDd56HF+Yl9vihwDtbPgC2Lkl1J4eo0933CZelbxY7VsG0ptO6buAOh+7f7s6l3roUfzAgvFI91QQz/yA8DLA2b5sO4K+HUc/wsq2G8lvEeED7eF11VLf0xujJ0PErj3DfO828GzP8HKitjics6M/8hqA/C4ktrmfhgrNEArh3tuxdfui2cUNy+0ncldb219IId/OyrV/wFXhkG0x4KZ9jhvPH+jO4Bz4UzXUe1mnDJvX5I5aeTkzPvVAzims/dzEaY2WIzW2JmPwqW/crMNprZguCnXyiVxmrN+/DMVb7P7dYpCnaJhrSWPhQ3zPShGK93fu0Pbl6YhAEGHW+AcwbAB/fD+lnxbevwPt+Nkt4zvpE+x+t8C6S1grd/5bsty4GYw93MOgC3Ad2AjsCVZnbscPLDzrlOwc/kEOqMzZL/wITv+DlZhk4p3T0SkUQLKxQ3zPF91L1+lLzpLK54yB8/eel7JT8xr6BZj/ljapf9Ntzuk0qV4dJfwfYVML/sHVgtTDx77u2AOc65A865XOAD4JpwygpB1hj492A/deuQyVC7SbIrEglfwVA8sLPk6zsHU+/zc9Ync66carV8V9O+LfDaD31dJfX5Vj+qqP3V4Y/0Ad8d07y7P7h6ZH8421wxxZ/7kADxhPti4AIzSzOz6kA/oHlw351m9omZjTGzQk/9NLNhZpZlZlk5OTlxlHEc5+CDP/n+sVaX+YssVKSzT6ViKRiKr99V8lBc/n/w2Rzfp5zsmUabdoHeo/y3iLljS77+Bw9A3mG/jUQwgz6/gX1b/aileE3/K0z8Dsz+R/zbKkTM4e6cWwY8AEwB/gssAPKAx4GWQCdgM1DoqV3Ouaecc5nOucyGDUP6Kpif788WfO93/uvqgAnJHx4nkmixhmJeru9DbtAGOt2UsPJKpMedfl6d/97rr0xWXMcOCJ87JLHdr+nn+ekmZjzip5OIhXMw5Zfw9ijocC10Hx5ujYG4Dqg650Y75851zl0I7AJWOOe2OufynHP5wNP4PvnEyz3ij7jPecL/B+n/eOnPySGSLD3uhJbfKFkozh8PO1b6vuSychGYlBT49hP+G8mkof6yh8Vx7IDwRaUwyVfvUb6uDx4o+bp5ufCfO/z0Et2G+TmJ4pnErgjxjpZpFPxOx/e3TzSzgp3b38Z33yTWkf3w/EA/J0fvUXDZ7/x/EpGKIiUF+pcgFA/vg/f+GP6okjDUbOQDfttSv4d7Ml8cEB5ROgeEG7TyJ0bNHevnnymuowf9iVULJ/rZJi9/MKE5Fe+WXzKzpcDrwHDn3G7gQTNbZGafAJcAd8f5HEU7sNOfdbr6XbjqUbjgx2XqJAORUlOrsQ/44oRiokaVhOXMS/08PB//08/NcyJfHBBu7M8ILi0Xj4RK1fw3huI4uBv+dY2f/+iKP/vx/An+d4/ru5hz7oJClt0czzZLZO8m/w+2c40/XbrdVaX21CJlUqtLfRfNrMfgjIsLf0/s25bYUSVh+cb/wtoP4dXh/vyUws7EPXZA+Mq/lu4B4ZqN/Iyj7/8RPvsYmnc98WM/3wLPXutnLb1ujJ/GuRSU776L+RNgTzbc9JKCXeSY3qOgSSd/JaU92V+///37EzuqJCyVq/owzM/1Z+Lm5331/i8OCLf2c/iUth53Qo1G/pvDiUYp7VzjJzDbuRZufLHUgh3Ke7hf8BN/oY2Mr32BEKm4igrF0hpVEpa0lr4bo7Azcb84IPzr5BwQrlbTd89smAWfvvn1+zd/AqO/6S8MNOh1f8C7FJXvcE9JgfoZya5CpOw5USiW5qiSsHQc4Kc5Lngm7hcHhHsk94Bwl2PTEoz66rQE66bDuCv8PP5D34JmCbxgzAmU73AXkRM7PhQ/+yj50wzE6oo/f3V6gll/9weE+yT5gHClKl+flmD5//ljgbWawK1vJe3ylWVkcKuIJES/h3yov/Q9P5om2dMMxOrYmbij+/i2rJ/lL6NY1IHM0tL2Cmh+nj+4mp8Lb97jZ7u8cVL4FyEpAe25i0RZam24LpieYOPcsjHNQKyOnYm76u2ydUDYzH+D2LcVJv/Uj1K65bWkBjtoz10k+pqeC1c+7EOxrEwzEKsed/qDqPVblq1rmqaf56cRyD0IfR9I2FmnJVFxrsQkIhIxRV2JSd0yIiIRpHAXEYkghbuISAQp3EVEIkjhLiISQQp3EZEIUriLiESQwl1EJIIU7iIiEaRwFxGJIIW7iEgEKdxFRCIornA3sxFmttjMlpjZj4Jl9c1sqpmtDH7XC6VSEREptpjD3cw6ALcB3YCOwJVmdiYwEnjHOdcKeCf4W0RESlE8e+7tgDnOuQPOuVzgA+Aa4GrgmeAxzwD946pQRERKLJ5wXwxcYGZpZlYd6Ac0Bxo75zYHj9kCNI6zRhERKaGYr8TknFtmZg8AU4D9wAIg77jHODMr9GogZjYMGAaQnp4eaxkiIlKIuA6oOudGO+fOdc5dCOwCVgBbzawJQPB72wnWfco5l+mcy2zYsJxdiV1EpIyLd7RMo+B3Or6/fSLwGjAoeMgg4NV4nkNEREou3gtkv2RmacBRYLhzbreZ3Q+8aGa3AuuB6+MtUkRESiaucHfOXVDIsh1A73i2KyIi8dEZqiIiEaRwFxGJIIW7iEgEKdxFRCJI4S4iEkEKdxGRCFK4i4hEkMJdRCSCFO4iIhGkcBcRiSCFu4hIBCncRUQiSOEuIhJBCncRkQhSuIuIRJDCXUQkghTuIiIRpHAXEYkghbuISAQp3EVEIiiucDezu81siZktNrPnzCzVzMaZ2VozWxD8dAqpVhERKabKsa5oZk2Bu4D2zrmDZvYiMCC4+2fOuUlhFCgiIiUXb7dMZeAUM6sMVAc2xV+SiIjEK+Zwd85tBB4CNgCbgT3OuSnB3b83s0/M7GEzqxZCnSIiUgIxh7uZ1QOuBjKA04AaZnYTcC/QFugK1Ad+foL1h5lZlpll5eTkxFqGiIgUIp5umUuBtc65HOfcUeBloKdzbrPzDgNjgW6Freyce8o5l+mcy2zYsGEcZYiIyPHiCfcNQHczq25mBvQGlplZE4BgWX9gcdxViohIicQ8WsY5N8fMJgHzgFxgPvAU8KaZNQQMWAB8P4Q6RUSkBGIOdwDn3Chg1HGLvxHPNkVEJH46Q1VEJIIU7iIiEaRwFxGJIIW7iEgEKdxFRCJI4S4iEkEKdxGRCFK4i4hEkMJdRCSCFO4iIhGkcBcRiSCFu4hIBCncRUQiSOEuIhJBCncRkQhSuIuIRJDCXUQkghTuIiIRpHAXEYkghbuISAQp3EVEIiiucDezu81siZktNrPnzCzVzDLMbI6ZrTKzF8ysaljFiohI8cQc7mbWFLgLyHTOdQAqAQOAB4CHnXNnAruAW8MoVEREii/ebpnKwClmVhmoDmwGvgFMCu5/Bugf53OIiEgJxRzuzrmNwEPABnyo7wHmArudc7nBw7KBpoWtb2bDzCzLzLJycnJiLUNERAoRT7dMPeBqIAM4DagB9C3u+s65p5xzmc65zIYNG8ZahoiIFCKebplLgbXOuRzn3FHgZaAXUDfopgFoBmyMs0YRESmheMJ9A9DdzKqbmQG9gaXAe8B1wWMGAa/GV6KIiJRUPH3uc/AHTucBi4JtPQX8HPixma0C0oDRIdQpIiIlUPnkDzkx59woYNRxi9cA3eLZroiIxEdnqIqIRJDCXUQkghTuIiIRpHAXEYkghbuISAQp3EVEIkjhLiISQQp3EZEIUriLiESQwl1EJIIU7iIiEaRwFxGJIIW7iEgEKdxFRCJI4S4iEkEKdxGRCFK4i4hEkMJdRCSCFO4iIhGkcBcRiaCYL5BtZm2AFwosOgP4X6AucBuQEyz/hXNucqzPIyIiJRdzuDvnPgU6AZhZJWAj8AowBHjYOfdQGAWKiEjJhdUt0xtY7ZxbH9L2REQkDmGF+wDguQJ/32lmn5jZGDOrV9gKZjbMzLLMLCsnJ6ewh4iISIziDnczqwp8C/h3sOhxoCW+y2Yz8OfC1nPOPeWcy3TOZTZs2DDeMkREpIAw9twvB+Y557YCOOe2OufynHP5wNNAtxCeQ0RESiCMcB9IgS4ZM2tS4L5vA4tDeA4RESmBmEfLAJhZDaAPcHuBxQ+aWSfAAeuOuy9Uuw8cYcf+I7RsWDNRTyEiUi7FFe7Ouf1A2nHLbo6rohIYP2s9D7+9gj7tGnP7RWdw7un1S+upRUTKtLjCPdkGdkvnaF4+42etZ8rSrWSeXo9hF57Bpe0ak5JiyS5PRCRpzDmX7BrIzMx0WVlZMa9/4EguL378GU9/uJaNuw9yRsMaDLvgDPp3bkpqlUohVioiUnaY2VznXGah90Uh3I/Jzctn8uItPPnBapZs2kuDmtUY0qsFN513OnWqVwmhUhGRsqPChPsxzjlmrt7Bk9PWMG1FDtWrVmJA13RuvSCDpnVPCe15RESSqcKFe0FLN+3l6Q/X8PrCTTjgqnOacFfvVpyhETYiUs5V6HA/ZuPug4yZvpbnP9pAzdTKvDniQurXqJrQ5xQRSaSiwr3CzOfetO4p3Hdle178fg927T/KPZMWUhY+2EREEqHChPsxZ51Wh3v7teXtZdsYP0uTWIpINFW4cAcY3LMF32jbiN9PXsbSTXuTXY6ISOgqZLibGX+67hzqnlKFHz43jwNHcpNdkohIqCpkuAOk1azGwzd0Ys32/fzm9aWhbvuznQcYP2sdR/PyQ92uiEhxVdhwB+h1ZgN+cFFLnv/4M974ZFMo21y2eS/XPD6T/311CbeNz9K3AhFJigod7gB392lN5/S63PvyIj7beSCubX20difXPzmLSmbcfWlrpq3I4aZ/zmH3gSMhVSsiUjwVPtyrVErh0QGdwcGI5+eTG2NXyttLt3Lz6Dk0rFWNl+7oyYhLW/GPG7uweONern9yFlv2HAq5chGRE6vw4Q7QvH51/nDN2czbsJtH3llZ4vUnzc3m9mfn0ubUWvz79h5fTHHQt0MTxg3tyqbdh7j28ZmsydkXdukiIoVSuAeu6nga12c247H3VjFz9fZir/f0tDX89N8L6X5GfSbe1p20mtW+cn/Plg14flh3Dh3N47onZvFJ9u6QKxcR+TqFewG/+tZZZDSowd0vLGDn/qL7yZ1z3P/mcn4/eRn9zj6VMYO7UrNa4dPjd2hah0k/6En1qpUY+NRsZqwq/oeHiEgsFO4FVK9amUcHdD7p9AS5efn8/KVPeOKD1dx4Xjp/G9iFapWLnjc+o0ENXvpBT5rVq86QsR8zedHmRDRBRARQuH9Nh6Z1GHn5iacnOHQ0jzsmzOPFrGzu6t2K3/XvQKViXvWpce1UXry9B2c3q8PwifOYOGdD2OWLiAAK90IN6VX49AR7Dx1l0JiPmLJ0K7+6qj0/7tMas5Jdzq9O9So8e+t5XNKmEb94ZRGPvbtSE5iJSOhiDncza2NmCwr87DWzH5lZfTObamYrg9/1wiy4NBybnqBOgekJcj4/zIAnZzN3/S4eGdCJwb0yYt7+KVUr8eTN53JN56Y8NGUFv359Kfn5CngRCU8o87mbWSVgI3AeMBzY6Zy738xGAvWccz8vav3SmM89FjNWbeem0XO4vMOpLNm0l217D/PEzedyUeuGoWw/P9/x+8nLGD19Lf07ncafvtORKpX0ZUpEiqeo+dwLH95Rcr2B1c659WZ2NXBxsPwZ4H2gyHAvq45NT/CP91dTt3oVJtx2Hl3Sw/sikpJi/PKKdtSvUZU/vfUp732aQ9XKCneRk/lut3Tu7tM6Ydt/a8kWRr26hLxS6DId2bct157bLPTthhXuA4DngtuNnXPHhoJsARoXtoKZDQOGAaSnp4dURvju7tOamqmVuaz9qZzZKPxL85kZwy85kxZpNZiuIZIiJ7Vk0x6enLaawT1bUC8BV1NzzvHXt1dSKcW4pHWj0Ld/vKb1EnNd57i7ZcysKrAJOMs5t9XMdjvn6ha4f5dzrsjd3cK6ZY4ePUp2djaHDkX3tP3U1FSaNWtGlSpVkl2KSLmxfMte+v71Q+7p24Y7Lj4z9O3PWr2DgU/P5v5rzmZAt7K74wmJ75a5HJjnnNsa/L3VzJo45zabWRNgWywbzc7OplatWrRo0aLEI1LKA+ccO3bsIDs7m4yM2A/OilQ0bU+tTa8z0xg/cz23XXBG6Mepxs5YS73qVejfuWmo2y1tYfyrDOTLLhmA14BBwe1BwKuxbPTQoUOkpaVFMtjBd8ekpaVF+puJSKIM7ZXBlr2H+O/iLaFud8OOA0xdtpUbzzud1CpFn5hY1sUV7mZWA+gDvFxg8f1AHzNbCVwa/B3r9uMpr8yLevtEEuWSNo1okVadMTPWhrrdcTPXUcmMm3ucHup2kyGucHfO7XfOpTnn9hRYtsM519s518o5d6lzbmf8ZYqIfCklxRjcswXzN+xm/oZdoWzz80NHeTHrM644pwmNa6eGss1k0ri7OL322mvcf3/MX05EJEbXZTanVrXKjJ2xLpTtTZqbzb7DuQyJ4wTFskThHqdvfetbjBw5MtlliFQ4NatV5vquzZm8aDOb9xyMa1t5+Y5xM9fRJb0unZrXDafAJAtrnHtC/fr1JV+Z4yUM7U+rzairziryMevWraNv3750796dmTNn0rVrV4YMGcKoUaPYtm0bEyZMYOnSpWRlZfHYY48xePBgateuTVZWFlu2bOHBBx/kuuuuC7VuEfnS4J4tGDtjLf+atZ57+raNeTvvLd/G+h0H+Nk324RYXXJpz/0kVq1axU9+8hOWL1/O8uXLmThxItOnT+ehhx7iD3/4w9cev3nzZqZPn84bb7yhPXqRBGtevzp92jfmuY82cPBIXszbGTNjLafVSaXvWaeGWF1ylYs995PtYSdSRkYGZ599NgBnnXUWvXv3xsw4++yzWbdu3dce379/f1JSUmjfvj1bt2792v0iEq6hvTJ4a8lW/rNgIwNjOOlo2ea9zFy9g5GXt6VyhOZ2ik5LEqRatS8vm5eSkvLF3ykpKeTm5hb5eE3lK5J43TLq075JbcZMXxvTe27cjHWkVklhQNfmCagueRTuIlKumRlDz89g5bZ9JZ6face+w7yyYCPXdmlG3erhz1OTTAp3ESn3rurYhAY1q5Z4WOTEORs4kpvPkF4tElJXMoUyn3u8Cps4bNmyZbRr1y5JFZWeitJOkUR7eOoKHnlnJe/+5CLOaHjyGVyP5OZz/gPv0rZJbcYP7VYKFYavqInDtOcuIpFwY/d0qlZKYdzMdcV6/ORFm9n2+WGGRnCvHRTuIhIRjWqlclXH05g0N5s9B48W+VjnHGNmrKVlwxpc2CqcK6uVNQp3EYmMIb1acOBIHi9+/FmRj5u3YRefZO9hSK8MUlKiOYGfwl1EIqND0zp0y6jPuJnryM3LP+HjxkxfR+3UylzTpXzP2V4UhbuIRMrQXhls3H2QqUsLP4lw4+6D/HfJFgael071quXiPM6YKNxFJFL6tG9Ms3qnnHBY5PhZfvktPVqUWk3JoHAXkUipFMz1/tG6nSzK3vOV+w4cyeW5ORvoe9apNK2bmAtTlxUKdxGJnOu7NqdG1UqMPe5KTS/N28jeQ7kMPb9FcgorReWjw+nNkbBlUbjbPPVsuLzoi2wUZ8pfgBEjRnDo0CFOOeUUxo4dS5s2bXj44YdZtGgRY8aMYdGiRQwcOJCPPvqI6tWrh9sOEfma2qlV+E5mcybMWc/Ifm1pVCuV/HzHuBlr6disDl3S6yW7xITTnvtJnGzK37Zt2/Lhhx8yf/58fvOb3/CLX/wC8IG/atUqXnnlFYYMGcKTTz6pYBcpRYN6tiA33/Hs7A0ATFuZw+qc/Qw9P6NCXL+4fOy5n2QPO5FONuXvnj17GDRoECtXrsTMOHrUnzyRkpLCuHHjOOecc7j99tvp1atX0togUhFlNKjBN9o0YsLs9dxxcUvGzFhHo1rVuLxDk2SXViri2nM3s7pmNsnMlpvZMjPrYWa/MrONZrYg+OkXVrHJcLIpf++77z4uueQSFi9ezOuvv86hQ4e+ePzKlSupWbMmmzZtKvW6RQSGnp/Bjv1HePjtFUxbkcMtPU6nauWK0WERbysfAf7rnGsLdASWBcsfds51Cn4mx/kcZdqePXto2tSfCDFu3LivLL/rrruYNm0aO3bsYNKkSUmqUKTi6tkyjTaNa/HkB2uoVjklpot5lFcxh7uZ1QEuBEYDOOeOOOd2h1RXuXHPPfdw77330rlz569cvOPuu+9m+PDhtG7dmtGjRzNy5Ei2bduWxEpFKh4z+2I63/6dmpJWs1rRK0RIzFP+mlkn4ClgKX6vfS4wAvgZMBjYC2QBP3HO7Spk/WHAMID09PRz169f/5X7K8pUuBWlnSLJcuhoHg+99SlDzs+I3Nj2RE35WxnoAjzunOsM7AdGAo8DLYFOwGbgz4Wt7Jx7yjmX6ZzLbNgwmrOyiUjypVapxC+vbB+5YD+ZeMI9G8h2zs0J/p4EdHHObXXO5Tnn8oGngfI5C76ISDkWc7g757YAn5lZm2BRb2CpmRUcZ/RtYHEczxHrquVC1NsnIskT7zj3HwITzKwqsAYYAjwa9Mc7YB1weywbTk1NZceOHaSlpUXyhAPnHDt27CA1NTXZpYhIBMUV7s65BcDxnfk3x7PNY5o1a0Z2djY5OTlhbK5MSk1NpVmzZskuQ0QiqMyeoVqlShUyMjKSXYaISLlUMU7VEhGpYBTuIiIRpHAXEYmgmM9QDbUIsxzg2CmqDYDtSSwnmdT2iqsit78itx3ia//pzrlCzwItE+FekJllneh02qhT2ytm26Fit78itx0S1351y4iIRJDCXUQkgspiuD+V7AKSSG2vuCpy+yty2yFB7S9zfe4iIhK/srjnLiIicVK4i4hEUMLD3czGmNk2M1tcYFlHM5tlZovM7HUzqx0sr2pmY4PlC83s4gLrvG9mnxa48HajRNceLzNrbmbvmdlSM1tiZiOC5fXNbKqZrQx+1wuWm5k9amarzOwTM+tSYFuDgsevNLNByWpTSYTc/rwCr/1ryWpTccXQ9rbBe+Kwmf30uG31Df7vrzKzkcloT0mE3PZ1QR4sMLOsZLSnpGJo/43B//dFZjbTzDoW2Fbsr71zLqE/+OusdgEWF1j2MXBRcHso8Nvg9nBgbHC7Ef7SfSnB3+8DmYmuN+S2N8FfwASgFrACaA88CIwMlo8EHghu9wPeBAzoDswJltfHT6lcH6gX3K6X7PaVVvuD+/Yluz0JbnsjoCvwe+CnBbZTCVgNnAFUBRYC7ZPdvtJoe3DfOqBBstuU4Pb3PPZ+Bi4v8L6P67VP+J67c24asPO4xa2BacHtqcC1we32wLvBetuA3Xx9SuFywzm32Tk3L7j9ObAMaApcDTwTPOwZoH9w+2pgvPNmA3XNX/zkm8BU59xO569HOxXoW3otiU2I7S93Stp259w259zHwNHjNtUNWOWcW+OcOwI8H2yjzAqx7eVSDO2f6b68zvRs4Ng84HG99snqc1/Cl0V+B2ge3F4IfMvMKptZBnBugfsAxgZfz+4zK19X8DCzFkBnYA7Q2Dm3ObhrC9A4uN0U+KzAatnBshMtLzfibD9AqpllmdlsM+uf+IrDU8y2n0i5fu3jbDv4i/5MMbO5ZjYsMVUmTgztvxX/7RXifO2TNZ/7UPwVm+4DXgOOBMvHAO2ALPxcMzOBvOC+G51zG82sFvAS/qIg40u16hiZWU18zT9yzu0t+LnknHNmFunxqCG1//Tg9T8DeNfMFjnnVieo5NBU5Nc+pLafH7zujYCpZrY86A0o80rafjO7BB/u54fx/EnZc3fOLXfOXeacOxd4Dt+vhHMu1zl3t3Ouk3PuaqAuvr8K59zG4PfnwETKyYW3zawK/gWe4Jx7OVi89Vh3Q/B7W7B8I1/9ptIsWHai5WVeSO0v+PqvwR9/6Zzw4uNUwrafSLl87UNqe8HXfRvwCtF832Nm5wD/BK52zu0IFsf12icl3INPYcwsBfgl8ETwd3UzqxHc7gPkOueWBt00DYLlVYAriePC26Ul6DoaDSxzzv2lwF2vAcdGvAwCXi2w/BbzugN7gq9xbwGXmVm94Aj7ZcGyMi2s9gftrhZsswHQC1haKo2IUQxtP5GPgVZmlmH+WsUDgm2UWWG13cxqBN/UCXLhMiL4vjezdOBl4Gbn3IoCj4/vtQ/zKHFhP/g98834gyXZ+K8dI/B75CuA+/nyTNkWwKf4AxBv47+KA9TAj5z5BN9f/whQKdG1h9D28/F9hp8AC4KffkAa8A6wMmhn/eDxBvwd/01mEQVGB+G7slYFP0OS3bbSbD9+NMEi/DGZRcCtyW5bAtp+avD+2IsfSJAN1A7u6xe8V1YD/5PstpVW2/GjRBYGP0vKQ9tjbP8/gV0FHptVYFsxv/aafkBEJIJ0hqqISAQp3EVEIkjhLiISQQp3EZEIUriLiESQwl0qNDPbd5L765rZHaVVj0hYFO4iRasLKNyl3FG4iwTM7Gdm9nEwt/avg8X3Ay2DCev+FJw9+yczWxzMv31DMmsWOZFkTRwmUqaY2WVAK/zcJQa8ZmYX4ufd7uCc6xQ87lqgE9ARaAB8bGbT3Jez/YmUCdpzF/EuC37mA/OAtviwP975wHPOuTzn3FbgA/yFJkTKFO25i3gG/NE59+RXFvr5uEXKHe25i3hvAUODObgxs6bB7KWf4y+VdsyHwA1mVsnMGuIvI/lRqVcrchLacxcBnHNTzKwdMCu4qMI+4Cbn3Gozm2H+Au9vAvcAPfAzFTrgHufclmTVLXIimhVSRCSC1C0jIhJBCncRkQhSuIuIRJDCXUQkghTuIiIRpHAXEYkghbuISAT9P6PzysBRTCjsAAAAAElFTkSuQmCC\n",
      "text/plain": [
       "<Figure size 432x288 with 1 Axes>"
      ]
     },
     "metadata": {
      "needs_background": "light"
     },
     "output_type": "display_data"
    }
   ],
   "source": [
    "videoigre.groupby('leto').metascore.agg(['min', 'max']).plot()"
   ]
  },
  {
   "cell_type": "code",
=======
>>>>>>> 37e5f5dc53f18e6b807f33360eb0ded877b95838
   "execution_count": null,
   "metadata": {},
   "outputs": [],
   "source": []
  }
 ],
 "metadata": {
  "kernelspec": {
   "display_name": "Python 3",
   "language": "python",
   "name": "python3"
  },
  "language_info": {
   "codemirror_mode": {
    "name": "ipython",
    "version": 3
   },
   "file_extension": ".py",
   "mimetype": "text/x-python",
   "name": "python",
   "nbconvert_exporter": "python",
   "pygments_lexer": "ipython3",
   "version": "3.8.1"
  }
 },
 "nbformat": 4,
 "nbformat_minor": 4
}
