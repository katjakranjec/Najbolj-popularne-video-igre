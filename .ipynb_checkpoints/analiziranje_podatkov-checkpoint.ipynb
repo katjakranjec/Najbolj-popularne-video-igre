{
 "cells": [
  {
   "cell_type": "code",
   "execution_count": 1,
   "metadata": {},
   "outputs": [],
   "source": [
    "import pandas as pd"
   ]
  },
  {
   "cell_type": "code",
   "execution_count": 2,
   "metadata": {},
   "outputs": [],
   "source": [
    "videoigre1 = pd.read_csv ('../obdelani-podatki/videoigre.csv')"
   ]
  },
  {
   "cell_type": "code",
   "execution_count": 3,
   "metadata": {},
   "outputs": [],
   "source": [
    "zanri = pd.read_csv ('../obdelani-podatki/zanri.csv')"
   ]
  },
  {
   "cell_type": "code",
   "execution_count": 4,
   "metadata": {},
   "outputs": [],
   "source": [
    "publisherji = pd.read_csv ('../obdelani-podatki/publisherji.csv')"
   ]
  },
  {
   "cell_type": "code",
   "execution_count": 5,
   "metadata": {},
   "outputs": [],
   "source": [
    "ESRB = pd.read_csv ('../obdelani-podatki/ESRB-deskriptorji.csv')"
   ]
  },
  {
   "cell_type": "code",
   "execution_count": 6,
   "metadata": {},
   "outputs": [],
   "source": [
    "platforme = pd.read_csv ('../obdelani-podatki/platforme.csv')"
   ]
  },
  {
   "cell_type": "code",
   "execution_count": 24,
   "metadata": {},
   "outputs": [],
   "source": [
    "videoigre = videoigre1[videoigre1.metascore >= 70.0]"
   ]
  },
  {
   "cell_type": "code",
   "execution_count": 41,
   "metadata": {},
   "outputs": [
    {
     "data": {
      "text/html": [
       "<div>\n",
       "<style scoped>\n",
       "    .dataframe tbody tr th:only-of-type {\n",
       "        vertical-align: middle;\n",
       "    }\n",
       "\n",
       "    .dataframe tbody tr th {\n",
       "        vertical-align: top;\n",
       "    }\n",
       "\n",
       "    .dataframe thead th {\n",
       "        text-align: right;\n",
       "    }\n",
       "</style>\n",
       "<table border=\"1\" class=\"dataframe\">\n",
       "  <thead>\n",
       "    <tr style=\"text-align: right;\">\n",
       "      <th></th>\n",
       "      <th>naslov</th>\n",
       "      <th>datum</th>\n",
       "      <th>leto</th>\n",
       "      <th>metascore</th>\n",
       "      <th>stevilo_glasov_metascore</th>\n",
       "      <th>ocena_uporabnikov</th>\n",
       "      <th>stevilo_glasov_uporabnikov</th>\n",
       "      <th>oznaka</th>\n",
       "      <th>developer</th>\n",
       "      <th>stevilo_online_igralcev</th>\n",
       "      <th>stevilo_igralcev</th>\n",
       "    </tr>\n",
       "  </thead>\n",
       "  <tbody>\n",
       "    <tr>\n",
       "      <th>0</th>\n",
       "      <td>The Legend of Zelda: Ocarina of Time</td>\n",
       "      <td>1998-11-23</td>\n",
       "      <td>1998</td>\n",
       "      <td>99.0</td>\n",
       "      <td>22</td>\n",
       "      <td>9.1</td>\n",
       "      <td>5749.0</td>\n",
       "      <td>E</td>\n",
       "      <td>Nintendo</td>\n",
       "      <td>NaN</td>\n",
       "      <td>1 Player</td>\n",
       "    </tr>\n",
       "    <tr>\n",
       "      <th>1</th>\n",
       "      <td>Tony Hawk's Pro Skater 2</td>\n",
       "      <td>2000-09-20</td>\n",
       "      <td>2000</td>\n",
       "      <td>98.0</td>\n",
       "      <td>19</td>\n",
       "      <td>7.4</td>\n",
       "      <td>647.0</td>\n",
       "      <td>T</td>\n",
       "      <td>Neversoft Entertainment</td>\n",
       "      <td>NaN</td>\n",
       "      <td>1-2 Players</td>\n",
       "    </tr>\n",
       "    <tr>\n",
       "      <th>2</th>\n",
       "      <td>Grand Theft Auto IV</td>\n",
       "      <td>2008-04-29</td>\n",
       "      <td>2008</td>\n",
       "      <td>98.0</td>\n",
       "      <td>64</td>\n",
       "      <td>7.6</td>\n",
       "      <td>3806.0</td>\n",
       "      <td>M</td>\n",
       "      <td>Rockstar North</td>\n",
       "      <td>NaN</td>\n",
       "      <td>1 Player</td>\n",
       "    </tr>\n",
       "    <tr>\n",
       "      <th>3</th>\n",
       "      <td>SoulCalibur</td>\n",
       "      <td>1999-09-08</td>\n",
       "      <td>1999</td>\n",
       "      <td>98.0</td>\n",
       "      <td>24</td>\n",
       "      <td>8.5</td>\n",
       "      <td>324.0</td>\n",
       "      <td>T</td>\n",
       "      <td>Namco</td>\n",
       "      <td>NaN</td>\n",
       "      <td>1-2 Players</td>\n",
       "    </tr>\n",
       "    <tr>\n",
       "      <th>4</th>\n",
       "      <td>Grand Theft Auto IV</td>\n",
       "      <td>2008-04-29</td>\n",
       "      <td>2008</td>\n",
       "      <td>98.0</td>\n",
       "      <td>86</td>\n",
       "      <td>7.9</td>\n",
       "      <td>3364.0</td>\n",
       "      <td>M</td>\n",
       "      <td>Rockstar North</td>\n",
       "      <td>16 Players Online Up to 16 Players</td>\n",
       "      <td>1 Player</td>\n",
       "    </tr>\n",
       "    <tr>\n",
       "      <th>...</th>\n",
       "      <td>...</td>\n",
       "      <td>...</td>\n",
       "      <td>...</td>\n",
       "      <td>...</td>\n",
       "      <td>...</td>\n",
       "      <td>...</td>\n",
       "      <td>...</td>\n",
       "      <td>...</td>\n",
       "      <td>...</td>\n",
       "      <td>...</td>\n",
       "      <td>...</td>\n",
       "    </tr>\n",
       "    <tr>\n",
       "      <th>9910</th>\n",
       "      <td>Beyond A Steel Sky</td>\n",
       "      <td>2020-07-16</td>\n",
       "      <td>2020</td>\n",
       "      <td>70.0</td>\n",
       "      <td>28</td>\n",
       "      <td>7.1</td>\n",
       "      <td>19.0</td>\n",
       "      <td>NaN</td>\n",
       "      <td>Revolution Software</td>\n",
       "      <td>NaN</td>\n",
       "      <td>NaN</td>\n",
       "    </tr>\n",
       "    <tr>\n",
       "      <th>9911</th>\n",
       "      <td>Guitar Hero: Aerosmith</td>\n",
       "      <td>2008-06-29</td>\n",
       "      <td>2008</td>\n",
       "      <td>70.0</td>\n",
       "      <td>59</td>\n",
       "      <td>6.6</td>\n",
       "      <td>54.0</td>\n",
       "      <td>T</td>\n",
       "      <td>Neversoft Entertainment</td>\n",
       "      <td>2 Players Online</td>\n",
       "      <td>1-2 Players</td>\n",
       "    </tr>\n",
       "    <tr>\n",
       "      <th>9912</th>\n",
       "      <td>The Urbz: Sims in the City</td>\n",
       "      <td>2004-11-09</td>\n",
       "      <td>2004</td>\n",
       "      <td>70.0</td>\n",
       "      <td>28</td>\n",
       "      <td>6.5</td>\n",
       "      <td>10.0</td>\n",
       "      <td>T</td>\n",
       "      <td>Maxis</td>\n",
       "      <td>NaN</td>\n",
       "      <td>1-2 Players</td>\n",
       "    </tr>\n",
       "    <tr>\n",
       "      <th>9913</th>\n",
       "      <td>GripShift</td>\n",
       "      <td>2005-09-12</td>\n",
       "      <td>2005</td>\n",
       "      <td>70.0</td>\n",
       "      <td>37</td>\n",
       "      <td>8.5</td>\n",
       "      <td>24.0</td>\n",
       "      <td>E</td>\n",
       "      <td>Sidhe Interactive</td>\n",
       "      <td>NaN</td>\n",
       "      <td>1-4 Players</td>\n",
       "    </tr>\n",
       "    <tr>\n",
       "      <th>9914</th>\n",
       "      <td>Crysis Remastered</td>\n",
       "      <td>2020-09-18</td>\n",
       "      <td>2020</td>\n",
       "      <td>70.0</td>\n",
       "      <td>19</td>\n",
       "      <td>3.2</td>\n",
       "      <td>114.0</td>\n",
       "      <td>M</td>\n",
       "      <td>Saber Interactive</td>\n",
       "      <td>No Online Multiplayer</td>\n",
       "      <td>NaN</td>\n",
       "    </tr>\n",
       "  </tbody>\n",
       "</table>\n",
       "<p>9912 rows × 11 columns</p>\n",
       "</div>"
      ],
      "text/plain": [
       "                                    naslov       datum  leto  metascore  \\\n",
       "0     The Legend of Zelda: Ocarina of Time  1998-11-23  1998       99.0   \n",
       "1                 Tony Hawk's Pro Skater 2  2000-09-20  2000       98.0   \n",
       "2                      Grand Theft Auto IV  2008-04-29  2008       98.0   \n",
       "3                              SoulCalibur  1999-09-08  1999       98.0   \n",
       "4                      Grand Theft Auto IV  2008-04-29  2008       98.0   \n",
       "...                                    ...         ...   ...        ...   \n",
       "9910                    Beyond A Steel Sky  2020-07-16  2020       70.0   \n",
       "9911                Guitar Hero: Aerosmith  2008-06-29  2008       70.0   \n",
       "9912            The Urbz: Sims in the City  2004-11-09  2004       70.0   \n",
       "9913                             GripShift  2005-09-12  2005       70.0   \n",
       "9914                     Crysis Remastered  2020-09-18  2020       70.0   \n",
       "\n",
       "      stevilo_glasov_metascore  ocena_uporabnikov  stevilo_glasov_uporabnikov  \\\n",
       "0                           22                9.1                      5749.0   \n",
       "1                           19                7.4                       647.0   \n",
       "2                           64                7.6                      3806.0   \n",
       "3                           24                8.5                       324.0   \n",
       "4                           86                7.9                      3364.0   \n",
       "...                        ...                ...                         ...   \n",
       "9910                        28                7.1                        19.0   \n",
       "9911                        59                6.6                        54.0   \n",
       "9912                        28                6.5                        10.0   \n",
       "9913                        37                8.5                        24.0   \n",
       "9914                        19                3.2                       114.0   \n",
       "\n",
       "     oznaka                developer             stevilo_online_igralcev  \\\n",
       "0         E                 Nintendo                                 NaN   \n",
       "1         T  Neversoft Entertainment                                 NaN   \n",
       "2         M           Rockstar North                                 NaN   \n",
       "3         T                    Namco                                 NaN   \n",
       "4         M           Rockstar North  16 Players Online Up to 16 Players   \n",
       "...     ...                      ...                                 ...   \n",
       "9910    NaN      Revolution Software                                 NaN   \n",
       "9911      T  Neversoft Entertainment                    2 Players Online   \n",
       "9912      T                    Maxis                                 NaN   \n",
       "9913      E        Sidhe Interactive                                 NaN   \n",
       "9914      M        Saber Interactive               No Online Multiplayer   \n",
       "\n",
       "     stevilo_igralcev  \n",
       "0            1 Player  \n",
       "1         1-2 Players  \n",
       "2            1 Player  \n",
       "3         1-2 Players  \n",
       "4            1 Player  \n",
       "...               ...  \n",
       "9910              NaN  \n",
       "9911      1-2 Players  \n",
       "9912      1-2 Players  \n",
       "9913      1-4 Players  \n",
       "9914              NaN  \n",
       "\n",
       "[9912 rows x 11 columns]"
      ]
     },
     "execution_count": 41,
     "metadata": {},
     "output_type": "execute_result"
    }
   ],
   "source": [
    "videoigre"
   ]
  },
  {
   "cell_type": "markdown",
   "metadata": {},
   "source": [
    "HIPOTEZA: Novejše videoigre imajo boljšo oceno metascore in oceno uporabnikov."
   ]
  },
  {
   "cell_type": "code",
   "execution_count": 25,
   "metadata": {},
   "outputs": [],
   "source": [
    "po_letih = videoigre.groupby('leto')"
   ]
  },
  {
   "cell_type": "code",
   "execution_count": 26,
   "metadata": {},
   "outputs": [
    {
     "data": {
      "text/plain": [
       "<AxesSubplot:xlabel='leto'>"
      ]
     },
     "execution_count": 26,
     "metadata": {},
     "output_type": "execute_result"
    },
    {
     "data": {
      "image/png": "[encoded data removed]",
      "text/plain": [
       "<Figure size 432x288 with 1 Axes>"
      ]
     },
     "metadata": {
      "needs_background": "light"
     },
     "output_type": "display_data"
    }
   ],
   "source": [
    "po_letih.metascore.agg(['mean', 'max', 'min']).plot()"
   ]
  },
  {
   "cell_type": "code",
   "execution_count": 27,
   "metadata": {},
   "outputs": [
    {
     "data": {
      "text/plain": [
       "<AxesSubplot:xlabel='leto'>"
      ]
     },
     "execution_count": 27,
     "metadata": {},
     "output_type": "execute_result"
    },
    {
     "data": {
      "image/png": "[encoded data removed]",
      "text/plain": [
       "<Figure size 432x288 with 1 Axes>"
      ]
     },
     "metadata": {
      "needs_background": "light"
     },
     "output_type": "display_data"
    }
   ],
   "source": [
    "po_letih.size().plot()"
   ]
  },
  {
   "cell_type": "markdown",
   "metadata": {},
   "source": [
    "S prvega grafa razberemo, da povprečna metascore ocena videoiger po letih v resnici rahlo vpada, vendar nam drug graf razkrije, da pa je hkrati v zadnjih letih veliko več iger, ki imajo visoko oceno (in so vsebovani v naših podatkih, ki vsebujejo videoigre z oceno metascore 70.0 ali več). Prvi graf nam tudi pove, da ni nobene povezave med letom in najboljšo ali najslabšo ocenjeno igro posameznega leta."
   ]
  },
  {
   "cell_type": "code",
   "execution_count": 28,
   "metadata": {},
   "outputs": [
    {
     "data": {
      "text/plain": [
       "<AxesSubplot:xlabel='leto'>"
      ]
     },
     "execution_count": 28,
     "metadata": {},
     "output_type": "execute_result"
    },
    {
     "data": {
      "image/png": "[encoded data removed]",
      "text/plain": [
       "<Figure size 432x288 with 1 Axes>"
      ]
     },
     "metadata": {
      "needs_background": "light"
     },
     "output_type": "display_data"
    }
   ],
   "source": [
    "po_letih.ocena_uporabnikov.agg(['mean', 'max', 'min']).plot()"
   ]
  },
  {
   "cell_type": "markdown",
   "metadata": {},
   "source": [
    "Prav tako ocena uporabnikov ne narašča skozi leta, vendar kvečjemu rahlo vpada."
   ]
  },
  {
   "cell_type": "markdown",
   "metadata": {},
   "source": [
    "VPRAŠANJE: Ali obstaja povezava med številom igralcev in oceno uporabnikov?"
   ]
  },
  {
   "cell_type": "code",
   "execution_count": 29,
   "metadata": {},
   "outputs": [],
   "source": [
    "po_igralcih = videoigre.groupby('stevilo_igralcev')"
   ]
  },
  {
   "cell_type": "code",
   "execution_count": 30,
   "metadata": {},
   "outputs": [
    {
     "data": {
      "text/plain": [
       "stevilo_igralcev\n",
       "1 Player 1-6 Players       5.800000\n",
       "1-4 Players 1-6 Players    6.000000\n",
       "1 Player 1-4 Players       6.500000\n",
       "Massively Multiplayer      7.532000\n",
       "1-4 Players                7.694268\n",
       "1-3 Players                7.721429\n",
       "1-6 Players                7.736066\n",
       "1-5 Players                7.745455\n",
       "1-8 Players                7.817671\n",
       "1-2 Players                7.830314\n",
       "1-64 Players               7.837500\n",
       "1-16 Players               7.870130\n",
       "1 Player                   7.889330\n",
       "1-10 Players               7.892857\n",
       "1-12 Players               7.956250\n",
       "1-32 Players               8.052632\n",
       "64+ Players                8.133333\n",
       "1 Player 1-2 Players       8.180000\n",
       "1 Player 1-8 Players       8.200000\n",
       "1-14 Players               8.300000\n",
       " 1 Player                  8.500000\n",
       "1 Player 1-5 Players       8.600000\n",
       "Name: ocena_uporabnikov, dtype: float64"
      ]
     },
     "execution_count": 30,
     "metadata": {},
     "output_type": "execute_result"
    }
   ],
   "source": [
    "po_igralcih.ocena_uporabnikov.mean().sort_values()"
   ]
  },
  {
   "cell_type": "code",
   "execution_count": 31,
   "metadata": {},
   "outputs": [
    {
     "data": {
      "text/plain": [
       "stevilo_igralcev\n",
       " 1 Player                     1\n",
       "1 Player 1-5 Players          1\n",
       "1 Player 1-6 Players          1\n",
       "1 Player 1-8 Players          1\n",
       "1-14 Players                  1\n",
       "1-4 Players 1-6 Players       1\n",
       "1 Player 1-4 Players          2\n",
       "64+ Players                   3\n",
       "1 Player 1-2 Players          5\n",
       "1-64 Players                  8\n",
       "1-5 Players                  11\n",
       "1-10 Players                 14\n",
       "1-3 Players                  15\n",
       "1-12 Players                 16\n",
       "1-32 Players                 38\n",
       "Massively Multiplayer        51\n",
       "1-6 Players                  62\n",
       "1-16 Players                 79\n",
       "1-8 Players                 258\n",
       "1-4 Players                 821\n",
       "1-2 Players                 876\n",
       "1 Player                   1490\n",
       "dtype: int64"
      ]
     },
     "execution_count": 31,
     "metadata": {},
     "output_type": "execute_result"
    }
   ],
   "source": [
    "po_igralcih.size().sort_values()"
   ]
  },
  {
   "cell_type": "markdown",
   "metadata": {},
   "source": [
    "Iz zgornjih podatkov lahko razberemo, da ne obstaja močne povezave med številom igralcev in povprečno oceno uporabnikov. Visoko oceno imajo igre za enega igralca kot tudi igre za več igralcev. Nekoliko slabšo oceno pa imajo igre, ki so \"Massively Multiplayer\". Vidimo pa lahko tudi, da obstaja precej več iger za enega igralca in malo igralcev kot pa za veliko igralcev naenkrat."
   ]
  },
  {
   "cell_type": "markdown",
   "metadata": {},
   "source": [
    "VPRAŠANJE: Kateri žanri so najbolj priljubljeni?"
   ]
  },
  {
   "cell_type": "code",
   "execution_count": 32,
   "metadata": {},
   "outputs": [],
   "source": [
    "skupaj_z_zanri = pd.merge(videoigre, zanri, left_on='naslov', right_on='naslov')"
   ]
  },
  {
   "cell_type": "code",
   "execution_count": 33,
   "metadata": {},
   "outputs": [],
   "source": [
    "po_zanrih = skupaj_z_zanri.groupby('zanr')"
   ]
  },
  {
   "cell_type": "code",
   "execution_count": 34,
   "metadata": {},
   "outputs": [
    {
     "data": {
      "text/plain": [
       "zanr\n",
       "Action              7056\n",
       "General             5815\n",
       "Shooter             3823\n",
       "Action Adventure    3616\n",
       "Sim                 2946\n",
       "Sports              2918\n",
       "Arcade              2458\n",
       "Platformer          2450\n",
       "2D                  2397\n",
       "First-Person        2172\n",
       "Modern              2138\n",
       "Traditional         2134\n",
       "Role-Playing        2132\n",
       "Sci-Fi              1859\n",
       "Fantasy             1820\n",
       "dtype: int64"
      ]
     },
     "execution_count": 34,
     "metadata": {},
     "output_type": "execute_result"
    }
   ],
   "source": [
    "po_zanrih.size().sort_values(ascending=False).head(15)"
   ]
  },
  {
   "cell_type": "code",
   "execution_count": 35,
   "metadata": {},
   "outputs": [
    {
     "data": {
      "text/html": [
       "<div>\n",
       "<style scoped>\n",
       "    .dataframe tbody tr th:only-of-type {\n",
       "        vertical-align: middle;\n",
       "    }\n",
       "\n",
       "    .dataframe tbody tr th {\n",
       "        vertical-align: top;\n",
       "    }\n",
       "\n",
       "    .dataframe thead th {\n",
       "        text-align: right;\n",
       "    }\n",
       "</style>\n",
       "<table border=\"1\" class=\"dataframe\">\n",
       "  <thead>\n",
       "    <tr style=\"text-align: right;\">\n",
       "      <th></th>\n",
       "      <th>max</th>\n",
       "    </tr>\n",
       "    <tr>\n",
       "      <th>zanr</th>\n",
       "      <th></th>\n",
       "    </tr>\n",
       "  </thead>\n",
       "  <tbody>\n",
       "    <tr>\n",
       "      <th>Fantasy</th>\n",
       "      <td>99.0</td>\n",
       "    </tr>\n",
       "    <tr>\n",
       "      <th>Action Adventure</th>\n",
       "      <td>99.0</td>\n",
       "    </tr>\n",
       "    <tr>\n",
       "      <th>Sports</th>\n",
       "      <td>98.0</td>\n",
       "    </tr>\n",
       "    <tr>\n",
       "      <th>Fighting</th>\n",
       "      <td>98.0</td>\n",
       "    </tr>\n",
       "    <tr>\n",
       "      <th>Individual</th>\n",
       "      <td>98.0</td>\n",
       "    </tr>\n",
       "    <tr>\n",
       "      <th>3D</th>\n",
       "      <td>98.0</td>\n",
       "    </tr>\n",
       "    <tr>\n",
       "      <th>Open-World</th>\n",
       "      <td>98.0</td>\n",
       "    </tr>\n",
       "    <tr>\n",
       "      <th>Skate / Skateboard</th>\n",
       "      <td>98.0</td>\n",
       "    </tr>\n",
       "    <tr>\n",
       "      <th>Skateboarding</th>\n",
       "      <td>98.0</td>\n",
       "    </tr>\n",
       "    <tr>\n",
       "      <th>Modern</th>\n",
       "      <td>98.0</td>\n",
       "    </tr>\n",
       "    <tr>\n",
       "      <th>Action</th>\n",
       "      <td>98.0</td>\n",
       "    </tr>\n",
       "    <tr>\n",
       "      <th>Alternative</th>\n",
       "      <td>98.0</td>\n",
       "    </tr>\n",
       "    <tr>\n",
       "      <th>Arcade</th>\n",
       "      <td>97.0</td>\n",
       "    </tr>\n",
       "    <tr>\n",
       "      <th>Sim</th>\n",
       "      <td>97.0</td>\n",
       "    </tr>\n",
       "    <tr>\n",
       "      <th>Shooter</th>\n",
       "      <td>97.0</td>\n",
       "    </tr>\n",
       "  </tbody>\n",
       "</table>\n",
       "</div>"
      ],
      "text/plain": [
       "                     max\n",
       "zanr                    \n",
       "Fantasy             99.0\n",
       "Action Adventure    99.0\n",
       "Sports              98.0\n",
       "Fighting            98.0\n",
       "Individual          98.0\n",
       "3D                  98.0\n",
       "Open-World          98.0\n",
       "Skate / Skateboard  98.0\n",
       "Skateboarding       98.0\n",
       "Modern              98.0\n",
       "Action              98.0\n",
       "Alternative         98.0\n",
       "Arcade              97.0\n",
       "Sim                 97.0\n",
       "Shooter             97.0"
      ]
     },
     "execution_count": 35,
     "metadata": {},
     "output_type": "execute_result"
    }
   ],
   "source": [
    "po_zanrih.metascore.agg(['max']).sort_values('max', ascending=False).head(15)"
   ]
  },
  {
   "cell_type": "markdown",
   "metadata": {},
   "source": [
    "Po številu videoiger posameznega žanra v naših podatkih lahko rečemo, da je daleč najbolj priljubljen žanr 'Action', sledijo pa mu tudi 'Shooter', 'Sim', 'Sports' in 'Arcade'. Po igri z najboljšo oceno metascore posameznega žanra pa zmaga 'Fantasy', ampak mu tesno sledijo tudi ostali žanri."
   ]
  },
  {
   "cell_type": "code",
   "execution_count": 36,
   "metadata": {},
   "outputs": [
    {
     "data": {
      "text/html": [
       "<div>\n",
       "<style scoped>\n",
       "    .dataframe tbody tr th:only-of-type {\n",
       "        vertical-align: middle;\n",
       "    }\n",
       "\n",
       "    .dataframe tbody tr th {\n",
       "        vertical-align: top;\n",
       "    }\n",
       "\n",
       "    .dataframe thead th {\n",
       "        text-align: right;\n",
       "    }\n",
       "</style>\n",
       "<table border=\"1\" class=\"dataframe\">\n",
       "  <thead>\n",
       "    <tr style=\"text-align: right;\">\n",
       "      <th></th>\n",
       "      <th>max</th>\n",
       "    </tr>\n",
       "    <tr>\n",
       "      <th>zanr</th>\n",
       "      <th></th>\n",
       "    </tr>\n",
       "  </thead>\n",
       "  <tbody>\n",
       "    <tr>\n",
       "      <th>Strategy</th>\n",
       "      <td>9.8</td>\n",
       "    </tr>\n",
       "    <tr>\n",
       "      <th>Fantasy</th>\n",
       "      <td>9.8</td>\n",
       "    </tr>\n",
       "    <tr>\n",
       "      <th>Real-Time</th>\n",
       "      <td>9.8</td>\n",
       "    </tr>\n",
       "    <tr>\n",
       "      <th>2D</th>\n",
       "      <td>9.7</td>\n",
       "    </tr>\n",
       "    <tr>\n",
       "      <th>Flight</th>\n",
       "      <td>9.7</td>\n",
       "    </tr>\n",
       "    <tr>\n",
       "      <th>General</th>\n",
       "      <td>9.7</td>\n",
       "    </tr>\n",
       "    <tr>\n",
       "      <th>Modern Jet</th>\n",
       "      <td>9.7</td>\n",
       "    </tr>\n",
       "    <tr>\n",
       "      <th>Platformer</th>\n",
       "      <td>9.7</td>\n",
       "    </tr>\n",
       "    <tr>\n",
       "      <th>Role-Playing</th>\n",
       "      <td>9.7</td>\n",
       "    </tr>\n",
       "    <tr>\n",
       "      <th>Simulation</th>\n",
       "      <td>9.7</td>\n",
       "    </tr>\n",
       "    <tr>\n",
       "      <th>Combat</th>\n",
       "      <td>9.7</td>\n",
       "    </tr>\n",
       "    <tr>\n",
       "      <th>Adventure</th>\n",
       "      <td>9.7</td>\n",
       "    </tr>\n",
       "    <tr>\n",
       "      <th>Action</th>\n",
       "      <td>9.7</td>\n",
       "    </tr>\n",
       "    <tr>\n",
       "      <th>Arcade</th>\n",
       "      <td>9.6</td>\n",
       "    </tr>\n",
       "    <tr>\n",
       "      <th>First-Person</th>\n",
       "      <td>9.6</td>\n",
       "    </tr>\n",
       "  </tbody>\n",
       "</table>\n",
       "</div>"
      ],
      "text/plain": [
       "              max\n",
       "zanr             \n",
       "Strategy      9.8\n",
       "Fantasy       9.8\n",
       "Real-Time     9.8\n",
       "2D            9.7\n",
       "Flight        9.7\n",
       "General       9.7\n",
       "Modern Jet    9.7\n",
       "Platformer    9.7\n",
       "Role-Playing  9.7\n",
       "Simulation    9.7\n",
       "Combat        9.7\n",
       "Adventure     9.7\n",
       "Action        9.7\n",
       "Arcade        9.6\n",
       "First-Person  9.6"
      ]
     },
     "execution_count": 36,
     "metadata": {},
     "output_type": "execute_result"
    }
   ],
   "source": [
    "po_zanrih.ocena_uporabnikov.agg(['max']).sort_values('max', ascending=False).head(15)"
   ]
  },
  {
   "cell_type": "markdown",
   "metadata": {},
   "source": [
    "Po oceni uporabnikov pa prevladajo žanri kot so 'Strategy', 'Fantasy', 'Real-Time', 'Flight', 'Role-Playing' in 'Simulation'."
   ]
  },
  {
   "cell_type": "markdown",
   "metadata": {},
   "source": [
    "VPRAŠANJE: Ali obstaja povezava med oceno metascore in oceno uporabnikov?"
   ]
  },
  {
   "cell_type": "code",
   "execution_count": 37,
   "metadata": {},
   "outputs": [
    {
     "data": {
      "text/plain": [
       "<AxesSubplot:xlabel='metascore', ylabel='ocena_uporabnikov'>"
      ]
     },
     "execution_count": 37,
     "metadata": {},
     "output_type": "execute_result"
    },
    {
     "data": {
      "image/png": "[encoded data removed]",
      "text/plain": [
       "<Figure size 432x288 with 1 Axes>"
      ]
     },
     "metadata": {
      "needs_background": "light"
     },
     "output_type": "display_data"
    }
   ],
   "source": [
    "videoigre.plot.scatter('metascore', 'ocena_uporabnikov')"
   ]
  },
  {
   "cell_type": "markdown",
   "metadata": {},
   "source": [
    "Z grafa lahko razberemo, da imajo videoigre z visoko oceno metascore običajno tudi visoko oceno uporabnikov, medtem ko pa imajo videoigre z nižjo metascore oceno prav tako lahko visoko oceno uporabnikov. Ta trend (z rahlim odstopanjem zaradi izstopajočih vrednosti) lahko opazujemo tudi na spodnjem grafu, ki prikazuje odvisnost povprečne ocene uporabnikov v odvisnosti od ocene metascore."
   ]
  },
  {
   "cell_type": "code",
   "execution_count": 38,
   "metadata": {},
   "outputs": [],
   "source": [
    "po_metascoru = videoigre.groupby('metascore')"
   ]
  },
  {
   "cell_type": "code",
   "execution_count": 39,
   "metadata": {},
   "outputs": [
    {
     "data": {
      "text/plain": [
       "<AxesSubplot:xlabel='metascore'>"
      ]
     },
     "execution_count": 39,
     "metadata": {},
     "output_type": "execute_result"
    },
    {
     "data": {
      "image/png": "[encoded data removed]",
      "text/plain": [
       "<Figure size 432x288 with 1 Axes>"
      ]
     },
     "metadata": {
      "needs_background": "light"
     },
     "output_type": "display_data"
    }
   ],
   "source": [
    "po_metascoru.ocena_uporabnikov.mean().plot()"
   ]
  },
  {
   "cell_type": "markdown",
   "metadata": {},
   "source": [
    "VPRAŠANJE: Katera podjetja so ustvarila videoigre z najboljšo oceno?"
   ]
  },
  {
   "cell_type": "code",
   "execution_count": 42,
   "metadata": {},
   "outputs": [],
   "source": [
    "po_developerju = videoigre.groupby('developer')"
   ]
  },
  {
   "cell_type": "code",
   "execution_count": 44,
   "metadata": {},
   "outputs": [
    {
     "data": {
      "text/plain": [
       "developer\n",
       "Capcom               207\n",
       "Telltale Games       183\n",
       "EA Sports            168\n",
       "EA Canada            132\n",
       "Nintendo             116\n",
       "Ubisoft Montreal     102\n",
       "Konami                87\n",
       "Codemasters           83\n",
       "Visual Concepts       73\n",
       "EA Tiburon            72\n",
       "Electronic Arts       71\n",
       "Square Enix           69\n",
       "Ubisoft               65\n",
       "Treyarch              52\n",
       "Traveller's Tales     50\n",
       "dtype: int64"
      ]
     },
     "execution_count": 44,
     "metadata": {},
     "output_type": "execute_result"
    }
   ],
   "source": [
    "po_developerju.size().sort_values(ascending=False).head(15)"
   ]
  },
  {
   "cell_type": "markdown",
   "metadata": {},
   "source": [
    "Iz zgornjih podatkov lahko razberemo, da je Capcom ustvarilo največ iger z metascore 70.0 ali več. Nad 100 takih iger so ustvarila tudi podjetja Telltale Games, EA Sports, EA Canada, Nintendo in Ubisoft Montreal."
   ]
  },
  {
   "cell_type": "markdown",
   "metadata": {},
   "source": [
    "VPRAŠANJE: Katera podjetja so ustvarila najboljše igre primerne za PC?"
   ]
  },
  {
   "cell_type": "code",
   "execution_count": null,
   "metadata": {},
   "outputs": [],
   "source": []
  }
 ],
 "metadata": {
  "kernelspec": {
   "display_name": "Python 3",
   "language": "python",
   "name": "python3"
  },
  "language_info": {
   "codemirror_mode": {
    "name": "ipython",
    "version": 3
   },
   "file_extension": ".py",
   "mimetype": "text/x-python",
   "name": "python",
   "nbconvert_exporter": "python",
   "pygments_lexer": "ipython3",
   "version": "3.8.1"
  }
 },
 "nbformat": 4,
 "nbformat_minor": 4
}
